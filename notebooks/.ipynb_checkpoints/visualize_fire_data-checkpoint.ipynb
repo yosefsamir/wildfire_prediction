{
 "cells": [
  {
   "cell_type": "markdown",
   "metadata": {},
   "source": [
    "# Wildfire Data Visualization\n",
    "\n",
    "This notebook loads processed fire data and creates visualizations to help understand wildfire patterns in California."
   ]
  },
  {
   "cell_type": "markdown",
   "metadata": {},
   "source": [
    "## Setup\n",
    "\n",
    "First, let's import the necessary libraries and set up our environment."
   ]
  },
  {
   "cell_type": "code",
   "execution_count": null,
   "metadata": {},
   "outputs": [],
   "source": [
    "import os\n",
    "import sys\n",
    "import yaml\n",
    "import pandas as pd\n",
    "import geopandas as gpd\n",
    "import matplotlib.pyplot as plt\n",
    "import seaborn as sns\n",
    "from shapely.geometry import Point\n",
    "\n",
    "# Add the src directory to the path so we can import our package\n",
    "src_dir = os.path.join(os.path.dirname(os.path.dirname(os.path.abspath('__file__'))), 'src')\n",
    "sys.path.append(src_dir)\n",
    "\n",
    "# Import visualization functions\n",
    "from wildfire_prediction.data import get_project_paths\n",
    "from wildfire_prediction.visualization import (\n",
    "    visualize_frp_distribution,\n",
    "    visualize_california_fires\n",
    ")\n",
    "\n",
    "# Set plot style\n",
    "sns.set_style('whitegrid')\n",
    "plt.rcParams['figure.figsize'] = (12, 8)\n",
    "plt.rcParams['font.size'] = 12"
   ]
  },
  {
   "cell_type": "markdown",
   "metadata": {},
   "source": [
    "## Load Configuration and Project Paths\n",
    "\n",
    "We'll load the project configuration to get the paths to our data files."
   ]
  },
  {
   "cell_type": "code",
   "execution_count": null,
   "metadata": {},
   "outputs": [],
   "source": [
    "# Load configuration\n",
    "config_path = os.path.join(os.path.dirname(os.path.dirname(os.path.abspath('__file__'))),\n",
    "                          'configs', 'config.yml')\n",
    "\n",
    "# Get project paths\n",
    "paths = get_project_paths(config_path)\n",
    "\n",
    "# Print paths for verification\n",
    "print(f\"Project root: {paths['project_root']}\")\n",
    "print(f\"Processed data path: {paths['processed_fire_data']}\")\n",
    "print(f\"Figures output path: {paths['figures']}\")"
   ]
  },
  {
   "cell_type": "markdown",
   "metadata": {},
   "source": [
    "## Load Processed Fire Data\n",
    "\n",
    "Now we'll load the processed wildfire data from the CSV file."
   ]
  },
  {
   "cell_type": "code",
   "execution_count": null,
   "metadata": {},
   "outputs": [],
   "source": [
    "# Load processed data\n",
    "print(f\"Loading processed data from {paths['processed_fire_data']}...\")\n",
    "\n",
    "# Check if file exists\n",
    "if not os.path.exists(paths['processed_fire_data']):\n",
    "    raise FileNotFoundError(f\"Processed fire data file not found at: {paths['processed_fire_data']}\")\n",
    "\n",
    "# Load the data\n",
    "df = pd.read_csv(paths['processed_fire_data'])\n",
    "\n",
    "# Display basic information\n",
    "print(f\"Loaded {len(df):,} rows of fire data\")\n",
    "print(\"\\nDataFrame columns:\")\n",
    "print(df.columns.tolist())\n",
    "\n",
    "# Display the first few rows\n",
    "df.head()"
   ]
  },
  {
   "cell_type": "markdown",
   "metadata": {},
   "source": [
    "## Load California Boundary Data\n",
    "\n",
    "We'll load the California boundary data for our map visualization."
   ]
  },
  {
   "cell_type": "code",
   "execution_count": null,
   "metadata": {},
   "outputs": [],
   "source": [
    "# Check if California geojson exists in the current directory\n",
    "california_geojson = 'california.geojson'\n",
    "\n",
    "if os.path.exists(california_geojson):\n",
    "    print(f\"Loading California boundary from {california_geojson}...\")\n",
    "    california = gpd.read_file(california_geojson)\n",
    "else:\n",
    "    print(f\"{california_geojson} not found. Loading from original source...\")\n",
    "    # Load from original source\n",
    "    states = gpd.read_file(paths['ca_boundary'])\n",
    "    california = states[states.STATEFP == \"06\"]  # '06' is California's FIPS code\n",
    "    \n",
    "    # Save for future use\n",
    "    california.to_file(california_geojson, driver=\"GeoJSON\")\n",
    "    \n",
    "print(f\"California boundary loaded successfully with {len(california)} features\")"
   ]
  },
  {
   "cell_type": "markdown",
   "metadata": {},
   "source": [
    "## Convert DataFrame to GeoDataFrame\n",
    "\n",
    "For spatial visualizations, we need to convert our DataFrame to a GeoDataFrame with Point geometries."
   ]
  },
  {
   "cell_type": "code",
   "execution_count": null,
   "metadata": {},
   "outputs": [],
   "source": [
    "# Convert DataFrame to GeoDataFrame for map visualization\n",
    "if 'geometry' not in df.columns:\n",
    "    print(\"Converting DataFrame to GeoDataFrame for visualization...\")\n",
    "    geometry = [Point(lon, lat) for lon, lat in zip(df['longitude'], df['latitude'])]\n",
    "    gdf = gpd.GeoDataFrame(df, geometry=geometry, crs=\"EPSG:4326\")\n",
    "else:\n",
    "    gdf = gpd.GeoDataFrame(df)\n",
    "    \n",
    "print(f\"GeoDataFrame created with {len(gdf):,} points\")\n",
    "\n",
    "# Display the first few rows\n",
    "gdf.head()"
   ]
  },
  {
   "cell_type": "markdown",
   "metadata": {},
   "source": [
    "## Create FRP Distribution Visualizations\n",
    "\n",
    "Now we'll create visualizations of the Fire Radiative Power (FRP) distribution."
   ]
  },
  {
   "cell_type": "code",
   "execution_count": null,
   "metadata": {},
   "outputs": [],
   "source": [
    "# Create FRP distribution visualizations\n",
    "print(\"Creating FRP distribution visualizations...\")\n",
    "\n",
    "# Ensure figures directory exists\n",
    "os.makedirs(paths['figures'], exist_ok=True)\n",
    "\n",
    "# Create the visualization\n",
    "visualize_frp_distribution(df, paths['figures'])\n",
    "\n",
    "# Display the saved visualization\n",
    "frp_dist_path = os.path.join(paths['figures'], 'frp_distribution.png')\n",
    "if os.path.exists(frp_dist_path):\n",
    "    from IPython.display import Image, display\n",
    "    display(Image(frp_dist_path))\n",
    "else:\n",
    "    print(f\"Warning: Visualization file not found at {frp_dist_path}\")"
   ]
  },
  {
   "cell_type": "markdown",
   "metadata": {},
   "source": [
    "## Create California Wildfires Map\n",
    "\n",
    "Finally, we'll create a map visualization of wildfire data points in California."
   ]
  },
  {
   "cell_type": "code",
   "execution_count": null,
   "metadata": {},
   "outputs": [],
   "source": [
    "# Create California wildfires map\n",
    "print(\"Creating California wildfires map...\")\n",
    "\n",
    "# Create the visualization\n",
    "visualize_california_fires(gdf, california, paths['figures'])\n",
    "\n",
    "# Display the saved visualization\n",
    "ca_fires_path = os.path.join(paths['figures'], 'california_wildfires.png')\n",
    "if os.path.exists(ca_fires_path):\n",
    "    from IPython.display import Image, display\n",
    "    display(Image(ca_fires_path))\n",
    "else:\n",
    "    print(f\"Warning: Visualization file not found at {ca_fires_path}\")"
   ]
  },
  {
   "cell_type": "markdown",
   "metadata": {},
   "source": [
    "## Create Custom Visualizations\n",
    "\n",
    "Let's create some additional custom visualizations to explore the data further."
   ]
  },
  {
   "cell_type": "code",
   "execution_count": null,
   "metadata": {},
   "outputs": [],
   "source": [
    "# Check if we have temporal data\n",
    "if 'acq_date' in df.columns:\n",
    "    # Convert to datetime if not already\n",
    "    if not pd.api.types.is_datetime64_any_dtype(df['acq_date']):\n",
    "        df['acq_date'] = pd.to_datetime(df['acq_date'])\n",
    "    \n",
    "    # Group by date and count fires\n",
    "    fires_by_date = df.groupby(df['acq_date'].dt.date).size().reset_index()\n",
    "    fires_by_date.columns = ['date', 'fire_count']\n",
    "    \n",
    "    # Plot time series\n",
    "    plt.figure(figsize=(14, 6))\n",
    "    plt.plot(fires_by_date['date'], fires_by_date['fire_count'], marker='o', linestyle='-', alpha=0.7)\n",
    "    plt.title('Number of Fire Detections Over Time', fontsize=16)\n",
    "    plt.xlabel('Date', fontsize=14)\n",
    "    plt.ylabel('Number of Fires Detected', fontsize=14)\n",
    "    plt.grid(alpha=0.3)\n",
    "    plt.xticks(rotation=45)\n",
    "    plt.tight_layout()\n",
    "    \n",
    "    # Save the figure\n",
    "    time_series_path = os.path.join(paths['figures'], 'fires_over_time.png')\n",
    "    plt.savefig(time_series_path, dpi=300, bbox_inches='tight')\n",
    "    plt.show()\n",
    "else:\n",
    "    print(\"No acquisition date column found for temporal analysis\")"
   ]
  },
  {
   "cell_type": "code",
   "execution_count": null,
   "metadata": {},
   "outputs": [],
   "source": [
    "# Create a heatmap of fire intensity if we have the data\n",
    "if all(col in df.columns for col in ['latitude', 'longitude', 'frp']):\n",
    "    plt.figure(figsize=(12, 10))\n",
    "    \n",
    "    # Plot California boundary\n",
    "    california.plot(ax=plt.gca(), color='lightgrey', edgecolor='black')\n",
    "    \n",
    "    # Sample data if it's too large (for better visualization)\n",
    "    plot_data = df\n",
    "    if len(df) > 10000:\n",
    "        plot_data = df.sample(10000, random_state=42)\n",
    "        print(f\"Sampled to {len(plot_data):,} points for heatmap visualization\")\n",
    "    \n",
    "    # Create heatmap using hexbin\n",
    "    hb = plt.hexbin(plot_data['longitude'], plot_data['latitude'], C=plot_data['frp'],\n",
    "                   gridsize=50, cmap='hot', mincnt=1)\n",
    "    \n",
    "    # Add colorbar\n",
    "    cb = plt.colorbar(hb)\n",
    "    cb.set_label('Fire Radiative Power (FRP)')\n",
    "    \n",
    "    plt.title('Heatmap of Fire Intensity in California', fontsize=16)\n",
    "    plt.xlabel('Longitude', fontsize=14)\n",
    "    plt.ylabel('Latitude', fontsize=14)\n",
    "    \n",
    "    # Save the figure\n",
    "    heatmap_path = os.path.join(paths['figures'], 'fire_intensity_heatmap.png')\n",
    "    plt.savefig(heatmap_path, dpi=300, bbox_inches='tight')\n",
    "    plt.show()\n",
    "else:\n",
    "    print(\"Missing required columns for heatmap visualization\")"
   ]
  },
  {
   "cell_type": "markdown",
   "metadata": {},
   "source": [
    "## Summary\n",
    "\n",
    "In this notebook, we've created several visualizations of California wildfire data:\n",
    "\n",
    "1. Distribution of Fire Radiative Power (FRP)\n",
    "2. Map of wildfire locations in California\n",
    "3. Time series of fire detections (if temporal data available)\n",
    "4. Heatmap of fire intensity across California\n",
    "\n",
    "These visualizations help us understand the spatial and temporal patterns of wildfires in California, as well as their intensity distribution."
   ]
  }
 ],
 "metadata": {
  "kernelspec": {
   "display_name": "Python 3",
   "language": "python",
   "name": "python3"
  },
  "language_info": {
   "codemirror_mode": {
    "name": "ipython",
    "version": 3
   },
   "file_extension": ".py",
   "mimetype": "text/x-python",
   "name": "python",
   "nbconvert_exporter": "python",
   "pygments_lexer": "ipython3",
   "version": "3.8.10"
  }
 },
 "nbformat": 4,
 "nbformat_minor": 4
}