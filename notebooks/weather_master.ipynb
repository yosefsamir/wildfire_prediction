{
 "cells": [],
 "metadata": {
  "kernelspec": {
   "display_name": "wildfire_prediction",
   "language": "python",
   "name": "python3"
  },
  "language_info": {
   "name": "python",
   "version": "3.9.22"
  }
 },
 "nbformat": 4,
 "nbformat_minor": 5
}
